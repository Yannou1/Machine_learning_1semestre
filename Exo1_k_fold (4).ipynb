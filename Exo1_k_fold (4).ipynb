{
 "cells": [
  {
   "attachments": {},
   "cell_type": "markdown",
   "metadata": {},
   "source": [
    "# K-fold cross validation\n",
    "\n",
    "Implement a random k-fold cross validation algorithm from scratch.\n",
    "\n",
    "Your algorithm should:\n",
    "- load the iris dataset and split its columns into features and target\n",
    "- split the dataset into k-fold to perform cross validation\n",
    "\n",
    "You can use the code bellow to implement your algorithm or implement yourself from scratch.\n",
    "\n"
   ]
  },
  {
   "cell_type": "code",
   "execution_count": 71,
   "metadata": {},
   "outputs": [],
   "source": [
    "# we will implement a k-fold cross validation from scratch\n",
    "# we will use the iris dataset\n",
    "\n",
    "import numpy as np\n",
    "import pandas as pd\n",
    "from sklearn.datasets import load_iris\n",
    "\n",
    "# load the iris dataset\n",
    "iris = load_iris()\n",
    "X = iris.data\n",
    "y = iris.target\n",
    "\n",
    "def k_fold_cross_validation(X, y, k, model):\n",
    "    accuracies = [] #initialisation de la variable accuracies\n",
    "    # X is the data\n",
    "    # y is the target\n",
    "    # k is the number of folds\n",
    "    # model is the model to use\n",
    "    # we will return the accuracy of the model\n",
    "    # we will use the accuracy as a metric\n",
    "  \n",
    "\n",
    "    #################################\n",
    "\n",
    "    # shuffle the data and create X and y ready to be used to fit the model\n",
    "    # in a way that if I say X[0] the algorithm will return the first fold of the data, the same for y\n",
    "\n",
    "    #################################\n",
    "    \n",
    "    # we will need to define a for loop to iterate over the folds and guarantee that each fold is used as a test set at least once\n",
    "    # inside this for loop we will call the functions fit and accuracy for each one of the folds\n",
    "    # X_train, y_train, X_test, y_test are build each time the for loop is called by using X and y divided before\n",
    "    \n",
    "    x_y_stack = np.column_stack((X, y)) # on refusione les colonnes avec le label et les datas ensemble\n",
    "    np.random.shuffle(x_y_stack) # on effectue le redandom shuffle\n",
    "    #on resépare les colonnes entre les datas et les labels\n",
    "    X = x_y_stack[:, :-1]  \n",
    "    y = x_y_stack[:, -1]\n",
    "    # on prend 80% des colonnes pour le test\n",
    "    test_size = 0.8 \n",
    "    #creation des fold \n",
    "    fold_size = len(X) // k\n",
    "    #on split les datas pour effectué les k fold\n",
    "    Xfolds = np.array_split(X, k)\n",
    "    Yfolds = np.array_split(y, k)\n",
    "    \n",
    "    #######Your for loop here\n",
    "    \n",
    "    \n",
    "    for i in range(k):\n",
    "        #Indices de l'ensemble de test et d'entrainement\n",
    "        test_start = int(len(X) * i / k)\n",
    "        test_end = int(len(X) * (i + test_size) / k) \n",
    "        test_indices = list(range(test_start, test_end))\n",
    "        train_indices = [j for j in range(len(X)) if j not in test_indices]\n",
    "        # Your code to define X_train, y_train, X_test, y_test\n",
    "        X_train, y_train = X[train_indices], y[train_indices]\n",
    "        X_test, y_test = X[test_indices], y[test_indices]\n",
    "\n",
    "    # we will fit the model on the train data\n",
    "        model.fit(X_train, y_train)\n",
    "        \n",
    "        # we will predict on the test data\n",
    "        y_pred = model.predict(X_test)\n",
    "        \n",
    "        # we will compute the accuracy\n",
    "        accuracy = np.mean(y_pred == y_test)\n",
    "        \n",
    "        # we will append the accuracy to the list\n",
    "        accuracies.append(accuracy)\n",
    "    \n",
    "    # we will return the mean accuracy\n",
    "        return np.mean(accuracies)"
   ]
  },
  {
   "cell_type": "code",
   "execution_count": 72,
   "metadata": {},
   "outputs": [
    {
     "data": {
      "text/plain": [
       "0.9166666666666666"
      ]
     },
     "execution_count": 72,
     "metadata": {},
     "output_type": "execute_result"
    }
   ],
   "source": [
    "#You can use the code bellow to test your function\n",
    "\n",
    "#import the random forest model\n",
    "from sklearn.ensemble import RandomForestClassifier\n",
    "\n",
    "# we will use the random forest model\n",
    "model = RandomForestClassifier()\n",
    "\n",
    "# we will use the k_fold_cross_validation function\n",
    "k_fold_cross_validation(X, y, 5, model)"
   ]
  }
 ],
 "metadata": {
  "kernelspec": {
   "display_name": "Python 3",
   "language": "python",
   "name": "python3"
  },
  "language_info": {
   "codemirror_mode": {
    "name": "ipython",
    "version": 3
   },
   "file_extension": ".py",
   "mimetype": "text/x-python",
   "name": "python",
   "nbconvert_exporter": "python",
   "pygments_lexer": "ipython3",
   "version": "3.11.4"
  },
  "orig_nbformat": 4,
  "vscode": {
   "interpreter": {
    "hash": "914a73f32d308ae8debcaf6a2c2af8e68613f922620f6864a793ea7cdc2482ad"
   }
  }
 },
 "nbformat": 4,
 "nbformat_minor": 2
}
